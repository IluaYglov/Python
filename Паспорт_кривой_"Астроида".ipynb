{
  "nbformat": 4,
  "nbformat_minor": 0,
  "metadata": {
    "colab": {
      "provenance": [],
      "include_colab_link": true
    },
    "kernelspec": {
      "name": "python3",
      "display_name": "Python 3"
    },
    "language_info": {
      "name": "python"
    }
  },
  "cells": [
    {
      "cell_type": "markdown",
      "metadata": {
        "id": "view-in-github",
        "colab_type": "text"
      },
      "source": [
        "<a href=\"https://colab.research.google.com/github/IluaYglov/Python/blob/main/%D0%9F%D0%B0%D1%81%D0%BF%D0%BE%D1%80%D1%82_%D0%BA%D1%80%D0%B8%D0%B2%D0%BE%D0%B9_%22%D0%90%D1%81%D1%82%D1%80%D0%BE%D0%B8%D0%B4%D0%B0%22.ipynb\" target=\"_parent\"><img src=\"https://colab.research.google.com/assets/colab-badge.svg\" alt=\"Open In Colab\"/></a>"
      ]
    },
    {
      "cell_type": "code",
      "execution_count": null,
      "metadata": {
        "id": "MZg6m_o9qUgs"
      },
      "outputs": [],
      "source": [
        "import numpy as np # Подключаем модуль линейной алгебры\n",
        "import matplotlib.pyplot as plt # Подключаем модуль визуализации"
      ]
    },
    {
      "cell_type": "markdown",
      "source": [
        "#Паспорт кривой \"Астроида\"\n",
        "Астроида — плоская кривая, описываемая точкой окружности радиуса  , катящейся по внутренней стороне окружности радиуса."
      ],
      "metadata": {
        "id": "YIfzZGNHqfFG"
      }
    },
    {
      "cell_type": "markdown",
      "source": [
        "![Картинка](https://azbukametalla.ru/images/martens/A/Astroida/astroida.gif)"
      ],
      "metadata": {
        "id": "yxcATXveAFza"
      }
    },
    {
      "cell_type": "markdown",
      "source": [
        "##Историческая справка\n",
        "Астроида относится к циклоидам. Циклоидами занимались многие выдающиеся математики. Название «циклоида» принадлежит Галилео Галилею, он его дал линии в 1598 году. Точно вычислил площадь циклоиды Роберваль в 1634 году, результат которого подтвердили Декарт и Ферма 1638году. Название кривой «астроида» предложил австрийский астроном Карл Людвиг фон Литров в 1838 году."
      ],
      "metadata": {
        "id": "vOaAqzQfrHqr"
      }
    },
    {
      "cell_type": "markdown",
      "source": [
        "##Уравнение Астроиды в прямоугольной декартовой системе координат (ПДСК)\n",
        "$$ х^{2/3}+y^{2/3}=a^{2/3} $$\n",
        "где:\n",
        "- $a$ — параметр астроиды (радиус $R$).\n",
        "- $x$ и $y$ — координаты точки на астроиде в прямоугольной декартовой системе координат."
      ],
      "metadata": {
        "id": "lYgE9nOPlHdV"
      }
    },
    {
      "cell_type": "markdown",
      "source": [
        "## Уравнение Астроиды в полярной системе координат\n",
        "$$  r = a \\sqrt{\\cos^6 \\phi + \\sin^6 \\phi}  $$\n",
        "\n",
        "где:\n",
        "- $r$ — расстояние от центра до точки на кривой астроиды.\n",
        "- $a$ — параметр астроиды (радиус $R$).\n",
        "- $\\phi$ — угол в радианах от положительного направления оси x.\n"
      ],
      "metadata": {
        "id": "ZLWc9yZmbZ75"
      }
    },
    {
      "cell_type": "markdown",
      "source": [
        "##Параметрическое уравнение Астроиды\n",
        "$$\n",
        "\\begin{cases}\n",
        "  х(t) = a\\cos^{3} t \\\\\n",
        "  y(t) = a\\sin^{3} t, t \\in [0, 2\\pi]\n",
        "\\end{cases}\n",
        "$$\n",
        "где:\n",
        "- $a$ — параметр астроиды (радиус $R$).\n",
        "- $t$ — параметр, который изменяется от $0$ до $2\\pi$."
      ],
      "metadata": {
        "id": "VwVQws42TEIM"
      }
    },
    {
      "cell_type": "markdown",
      "source": [
        "## Вычисление площади Астроиды\n",
        "\n",
        "Будем считать, что уравнение $$ x^{2/3}+y^{2/3}=1 $$ задает нашу фигуру во всех 4-ёх плоскостях. Нам понадобятся производные от X и Y:$$x'(t)=3\\cos^{2t}\\cdot(-\\sin t)$$\n",
        "$$y'(t)=3\\sin^{2} t\\cdot\\cos t $$\n",
        "Нахождение площади:\n",
        "\\begin{equation*}\n",
        "S=\\frac{1}{2}\\int\\limits_0^{2π}(xy'-x'y)dt=\\frac{1}{2}\\int\\limits_0^{2π}(\\cos^{3}t\\cdot3\\sin^{2}t\\cdot\\cos t-3\\cos^{2}t\\cdot(-\\sin t)\\cdot\\sin^{3}t)dt=\\frac{1}{2}\\int\\limits_0^{2π}(3\\cos^{4}t\\cdot \\sin^{2}t+3\\cos^{2}t\\cdot\\sin^{4}t)dt=\\frac{3}{2}\\int\\limits_0^{2π}\\cos^{2}t\\cdot\\sin^{2}t\\cdot(\\cos^{2}t+\\sin^{2}t)dt=\\frac{3}{2}\\int\\limits_0^{2π}\\cos^{2}t\\cdot\\sin^{2}tdt=\\frac{3}{2}\\int\\limits_0^{2π}\\frac{1}{4}\\sin^{2}2tdt=\\frac{3}{2}\\int\\limits_0^{2π}\\frac{1}{4}\\cdot\\frac{1}{2}(1-\\cos 4t)dt=\\frac{3}{16}(t-\\frac{1}{4}\\sin 4t)\\bigg|_0^{2π}=\\frac{3}{16}{2π}=\\frac{3π}{8}\n",
        "\\end{equation*}\n",
        "\n"
      ],
      "metadata": {
        "id": "xHGZVoSbpZD9"
      }
    },
    {
      "cell_type": "markdown",
      "source": [
        "## Вычисление длины одной арки астроиды\n",
        "Представим уравнение $$ x^{2/3}+y^{2/3}=a^{2/3} $$\n",
        "в виде $$  (x^{1/3})^{2}+(y^{1/3})^{2}=(a^{1/3})^{2} $$\n",
        "Положим $x^{1/3}=a^{1/3} \\cos t , y^{1/3}=a^{1/3} \\sin t $. Отсюда получаем параметрические уравнения астроиды $$ x=a\\cos^{3} t, y=a\\sin^{3} t,0 \\le t \\le 2π ,(*) $$ Ввиду симметрии кривой (*) достаточно найти одну четвертую часть длины дуги L, соответствующую изменению параметра t от 0 до π/2.\n",
        "\n",
        "Получаем $$ dx=-3a\\cos^{2} t\\cdot\\sin t dt , dy=3a\\sin^{2} t \\cdot \\cos t dt $$ Отсюда находим $$ dL=\\sqrt{(dx)^{2}+(dy)^{2}}=3a\\sin t \\cdot \\cos t dt $$ Интегрируя полученное выражение в пределах от 0 до $\\pi/2$, получаем $$ \\frac{1}{4}L= \\int\\limits_{0}^{\\pi/2} 3a \\sin t \\cdot \\cos t dt =\\frac{3a}{2}\\int\\limits_{0}^{\\pi/2}\\sin 2t dt = \\frac{3a}{2} (-\\cos 2t)  \\bigg|_0^{\\pi/2} = \\frac{3}{2} a.$$ Отсюда $ L=6a$\n"
      ],
      "metadata": {
        "id": "l_Oh-DBMXk_U"
      }
    },
    {
      "cell_type": "markdown",
      "source": [
        "##Вычисление объёма тела вращения, образованного астроидой\n",
        "Найдем объем тела, полученного при вращении вокруг оси абсцисс астроиды $$\n",
        " \\begin{cases}\n",
        "   х = a\\cos^{3} t \\\\\n",
        "   y = a\\sin^{3} t\n",
        " \\end{cases}\n",
        "$$\n",
        " Рассмотрим половину верхней части астроиды, расположенной симметрично относительно оси ординат. Найдем для новой переменной t пределы интегрирования.\n",
        "\n",
        "Если $ х = a\\cos^{3} t=0 $ , то $ t = \\frac{\\pi}{2}$, а если $х = a\\cos^{3} t=a$ , то $t =0$. Учитывая, что  $y^{2}= a^{2}\\sin^{6} t$ и $dx=-3a\\cos^{2} t\\cdot\\ \\sin t dt$, получаем:\n",
        "$$\n",
        " V=\\pi \\int\\limits_{a}^{b} y^{2}dx=\\pi \\int\\limits_{\\pi/2}^{0} a^{2}\\sin^{6} t (-3a\\cos^{2} t\\cdot\\ \\sin t) dt=\\pi 3a^{3} \\int\\limits_{\\pi/2}^{0} \\sin^{7} t\\cdot\\ \\cos^{2} t dt=-\\pi a^{3}\\cdot\\cos^{3} t +\\frac{9a^{3} \\cos^{5} t}{5}+\\frac{9a^{3} \\cos^{7} t}{7}+\\frac{a^{3} \\cos^{9} t}{3} \\bigg|_0^{\\pi/2}=\\frac{16}{105} \\pi a^{3}\n",
        "$$\n",
        "\n",
        "Объем всего тела, образованного вращением астроиды, будет $$\\frac{32}{105}\\pi a^{3}$$\n",
        "\n"
      ],
      "metadata": {
        "id": "2DbWsrGzjhyG"
      }
    },
    {
      "cell_type": "markdown",
      "source": [
        "## Экспериментальное исследование зависимости формы кривой от параметров\n",
        "\n",
        "При изменении параметра $a$, меняется радиус описаной окружности кривой. Визуально, кривая лишь пропорционально изменяется в размерах.\n",
        "\n"
      ],
      "metadata": {
        "id": "zEI9xpJQdJEt"
      }
    },
    {
      "cell_type": "markdown",
      "source": [
        "# Визуализация построения\n"
      ],
      "metadata": {
        "id": "2zd4NYK3trqA"
      }
    },
    {
      "cell_type": "code",
      "source": [
        "plt.figure(figsize=(6, 6))\n",
        "plt.title(\"Astroida\")\n",
        "\n",
        "#пользовательский ввод параметра\n",
        "a = float(input(\"Введите параметр a = \"))\n",
        "\n",
        "#параметр t\n",
        "t = np.arange(0, np.pi*2, 0.05)\n",
        "\n",
        "#вычисление координат астроиды\n",
        "def x(t):\n",
        "    return (np.cos(t) ** 3) * a\n",
        "\n",
        "def y(t):\n",
        "    return (np.sin(t) ** 3) * a\n",
        "\n",
        "x_list = []\n",
        "y_list = []\n",
        "\n",
        "for i in t:\n",
        "    x_list.append(x(i))\n",
        "    y_list.append(y(i))\n",
        "\n",
        "#вычисление координат круга\n",
        "x_list_circle = []\n",
        "y_list_circle = []\n",
        "\n",
        "for i in t:\n",
        "    x_list_circle.append(np.cos(i) * a)\n",
        "    y_list_circle.append(np.sin(i) * a)\n",
        "\n",
        "\n",
        "#построение(астроида, оси, круг)\n",
        "plt.plot(\n",
        "    x_list, y_list,\n",
        "    [-a-a*0.2, a+a*0.2], [0, 0],\n",
        "    [0, 0], [-a-a*0.2, a+a*0.2],\n",
        "    x_list_circle, y_list_circle, 'r--'\n",
        ")\n",
        "\n",
        "#текст\n",
        "plt.text(a+a*0.1, 0, 'x')\n",
        "plt.text(0, a+a*0.1, 'y')\n",
        "plt.text(a/2, 0, 'R = ' + str(a))\n",
        "\n",
        "plt.show()"
      ],
      "metadata": {
        "id": "FbwH9ik-tqve",
        "outputId": "8491e4b6-6fa2-4186-abcb-d9ef0cc2c6a1",
        "colab": {
          "base_uri": "https://localhost:8080/",
          "height": 562
        }
      },
      "execution_count": null,
      "outputs": [
        {
          "name": "stdout",
          "output_type": "stream",
          "text": [
            "Введите параметр a = 1\n"
          ]
        },
        {
          "output_type": "display_data",
          "data": {
            "text/plain": [
              "<Figure size 600x600 with 1 Axes>"
            ],
            "image/png": "[encoded data removed]"
          },
          "metadata": {}
        }
      ]
    },
    {
      "cell_type": "markdown",
      "source": [
        "## Список литературы\n",
        "\n",
        "1.  Арнольд В.И. Астроидальная геометрия. – 2001. – С. 5-15.\n",
        "\n",
        "2.  Попов И.Ю. Блинова И.В Кривые, заданные параметрически и в полярных кооринатах. – 2017. – С. 22-24.\n",
        "\n",
        "3.  Различные виды алгебраических кривых / Хабр: [сайт]. URL: https://habr.com/ru/articles/575102/"
      ],
      "metadata": {
        "id": "ziXc1mF_BkMV"
      }
    },
    {
      "cell_type": "code",
      "source": [],
      "metadata": {
        "id": "sUHTfgYjDfEM"
      },
      "execution_count": null,
      "outputs": []
    }
  ]
}