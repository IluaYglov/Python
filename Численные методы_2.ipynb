{
  "nbformat": 4,
  "nbformat_minor": 0,
  "metadata": {
    "colab": {
      "provenance": [],
      "authorship_tag": "ABX9TyOFcsBxadwO8l7fmSFyW7fc",
      "include_colab_link": true
    },
    "kernelspec": {
      "name": "python3",
      "display_name": "Python 3"
    },
    "language_info": {
      "name": "python"
    }
  },
  "cells": [
    {
      "cell_type": "markdown",
      "metadata": {
        "id": "view-in-github",
        "colab_type": "text"
      },
      "source": [
        "<a href=\"https://colab.research.google.com/github/IluaYglov/Python/blob/main/%D0%A7%D0%B8%D1%81%D0%BB%D0%B5%D0%BD%D0%BD%D1%8B%D0%B5%20%D0%BC%D0%B5%D1%82%D0%BE%D0%B4%D1%8B_2.ipynb\" target=\"_parent\"><img src=\"https://colab.research.google.com/assets/colab-badge.svg\" alt=\"Open In Colab\"/></a>"
      ]
    },
    {
      "cell_type": "markdown",
      "source": [
        "№2"
      ],
      "metadata": {
        "id": "Q-zxWjFi7SOU"
      }
    },
    {
      "cell_type": "code",
      "execution_count": null,
      "metadata": {
        "colab": {
          "base_uri": "https://localhost:8080/"
        },
        "id": "OHQAGdkBxJYH",
        "outputId": "fe8bd211-9073-43e1-a9cc-7c031495030e"
      },
      "outputs": [
        {
          "output_type": "stream",
          "name": "stdout",
          "text": [
            "Приближенное значение функции в точке x*=4.8: y*=3.85104579022589\n",
            "Проверка интерполяции на табличных значениях:\n",
            "x=2.6, Табличное y=2.1874, Интерполированное y=2.1874, Погрешность=0.0\n",
            "x=3.3, Табличное y=2.8637, Интерполированное y=2.8637, Погрешность=0.0\n",
            "x=4.7, Табличное y=3.8161, Интерполированное y=3.8161, Погрешность=0.0\n",
            "x=6.1, Табличное y=3.8524, Интерполированное y=3.8524, Погрешность=0.0\n",
            "x=7.5, Табличное y=3.1905, Интерполированное y=3.1905, Погрешность=0.0\n",
            "x=8.2, Табличное y=2.8409, Интерполированное y=2.8409, Погрешность=0.0\n",
            "x=9.6, Табличное y=2.6137, Интерполированное y=2.6137, Погрешность=0.0\n",
            "Точное значение функции в точке x*=4.8: y_exact=3.8512283750599536\n",
            "Погрешность интерполяции: 0.0001825848340635261\n"
          ]
        }
      ],
      "source": [
        "import numpy as np\n",
        "import math\n",
        "\n",
        "x = np.array([2.6, 3.3, 4.7, 6.1, 7.5, 8.2, 9.6])\n",
        "y = np.array([2.1874, 2.8637, 3.8161, 3.8524, 3.1905, 2.8409, 2.6137])\n",
        "x_star = 4.8\n",
        "\n",
        "def lagrange_interpolation(x, y, x_star):\n",
        "    n = len(x)\n",
        "    result = 0\n",
        "    for i in range(n):\n",
        "        L = 1\n",
        "        for j in range(n):\n",
        "            if i != j:\n",
        "                L *= (x_star - x[j]) / (x[i] - x[j])\n",
        "        result += y[i] * L\n",
        "    return result\n",
        "\n",
        "y_star = lagrange_interpolation(x, y, x_star)\n",
        "print(f\"Приближенное значение функции в точке x*={x_star}: y*={y_star}\")\n",
        "\n",
        "print(\"Проверка интерполяции на табличных значениях:\")\n",
        "for xi, yi in zip(x, y):\n",
        "    yi_interp = lagrange_interpolation(x, y, xi)\n",
        "    print(f\"x={xi}, Табличное y={yi}, Интерполированное y={yi_interp}, Погрешность={abs(yi - yi_interp)}\")\n",
        "\n",
        "y_exact = 1.7 * (x_star**(1 / 3)) - np.cos(0.4 - 0.7 * x_star)\n",
        "error = abs(y_star - y_exact)\n",
        "print(f\"Точное значение функции в точке x*={x_star}: y_exact={y_exact}\")\n",
        "print(f\"Погрешность интерполяции: {error}\")"
      ]
    },
    {
      "cell_type": "markdown",
      "source": [
        "№3\n"
      ],
      "metadata": {
        "id": "Qt54k0t87Nmh"
      }
    },
    {
      "cell_type": "code",
      "source": [
        "import pandas as pd\n",
        "import numpy as np\n",
        "\n",
        "def f(x):\n",
        "    return 1.7 * ((x)**(1 / 3)) - np.cos(0.4 - 0.7 * x)\n",
        "\n",
        "h = 1.0\n",
        "x_nodes = np.arange(0, 7, h)\n",
        "y_nodes = np.round(f(x_nodes), 3)\n",
        "\n",
        "table = pd.DataFrame({'x': x_nodes, 'y': y_nodes})\n",
        "print(\"Таблица узлов:\")\n",
        "print(table)\n",
        "\n",
        "def finite_difference_table(y_nodes):\n",
        "    n = len(y_nodes)\n",
        "    diff_table = [y_nodes]\n",
        "    for i in range(1, n):\n",
        "        diff_table.append(np.round(np.diff(diff_table[i - 1]), 5))\n",
        "    return diff_table\n",
        "\n",
        "diff_table = finite_difference_table(y_nodes)\n",
        "diff_table_df = pd.DataFrame(diff_table).T\n",
        "print(\"\\nТаблица конечных разностей:\")\n",
        "print(diff_table_df)\n",
        "\n",
        "degree = next((i for i, diff in enumerate(diff_table) if np.all(np.abs(diff) < 0.00001)), len(diff_table) - 1)\n",
        "print(f\"\\nСтепень интерполяционного многочлена: {degree}\")\n",
        "\n",
        "def newton_forward(x_nodes, y_nodes, x_star):\n",
        "    n = len(x_nodes)\n",
        "    diff_table = finite_difference_table(y_nodes)\n",
        "    h = x_nodes[1] - x_nodes[0]\n",
        "    t = (x_star - x_nodes[0]) / h\n",
        "    result = diff_table[0][0]\n",
        "    term = 1\n",
        "    for i in range(1, n):\n",
        "        term *= (t - (i - 1)) / i\n",
        "        result += term * diff_table[i][0]\n",
        "    return result\n",
        "\n",
        "def newton_backward(x_nodes, y_nodes, x_star):\n",
        "    n = len(x_nodes)\n",
        "    diff_table = finite_difference_table(y_nodes)\n",
        "    h = x_nodes[1] - x_nodes[0]\n",
        "    t = (x_star - x_nodes[-1]) / h\n",
        "    result = diff_table[0][-1]\n",
        "    term = 1\n",
        "    for i in range(1, n):\n",
        "        term *= (t + (i - 1)) / i\n",
        "        result += term * diff_table[i][-1]\n",
        "    return result\n",
        "\n",
        "x_star = 4.8\n",
        "\n",
        "y_forward = newton_forward(x_nodes, y_nodes, x_star)\n",
        "y_backward = newton_backward(x_nodes, y_nodes, x_star)\n",
        "\n",
        "y_exact = f(x_star)\n",
        "\n",
        "error_forward = abs(y_forward - y_exact)\n",
        "error_backward = abs(y_backward - y_exact)\n",
        "\n",
        "print(f\"\\nИнтерполяция в точке x*={x_star}:\")\n",
        "print(f\"  Первым многочленом Ньютона: y*={y_forward}, Погрешность={error_forward}\")\n",
        "print(f\"  Вторым многочленом Ньютона: y*={y_backward}, Погрешность={error_backward}\")\n",
        "print(f\"  Точное значение: y_exact={y_exact}\")"
      ],
      "metadata": {
        "colab": {
          "base_uri": "https://localhost:8080/"
        },
        "id": "XDWzD1397N7M",
        "outputId": "c1af4cd2-8c7d-430e-e15c-44185b42342a"
      },
      "execution_count": null,
      "outputs": [
        {
          "output_type": "stream",
          "name": "stdout",
          "text": [
            "Таблица узлов:\n",
            "     x      y\n",
            "0  0.0 -0.921\n",
            "1  1.0  0.745\n",
            "2  2.0  1.602\n",
            "3  3.0  2.581\n",
            "4  4.0  3.436\n",
            "5  5.0  3.906\n",
            "6  6.0  3.880\n",
            "\n",
            "Таблица конечных разностей:\n",
            "       0      1      2      3      4      5      6\n",
            "0 -0.921  1.666 -0.809  0.931 -1.177  1.162 -0.997\n",
            "1  0.745  0.857  0.122 -0.246 -0.015  0.165    NaN\n",
            "2  1.602  0.979 -0.124 -0.261  0.150    NaN    NaN\n",
            "3  2.581  0.855 -0.385 -0.111    NaN    NaN    NaN\n",
            "4  3.436  0.470 -0.496    NaN    NaN    NaN    NaN\n",
            "5  3.906 -0.026    NaN    NaN    NaN    NaN    NaN\n",
            "6  3.880    NaN    NaN    NaN    NaN    NaN    NaN\n",
            "\n",
            "Степень интерполяционного многочлена: 6\n",
            "\n",
            "Интерполяция в точке x*=4.8:\n",
            "  Первым многочленом Ньютона: y*=3.846526681599999, Погрешность=0.004701693459954637\n",
            "  Вторым многочленом Ньютона: y*=3.8465266816, Погрешность=0.0047016934599537485\n",
            "  Точное значение: y_exact=3.8512283750599536\n"
          ]
        }
      ]
    },
    {
      "cell_type": "code",
      "source": [
        "from scipy.interpolate import lagrange, CubicSpline, PchipInterpolator, CubicHermiteSpline, Akima1DInterpolator\n",
        "\n",
        "x_nodes = np.array([2.6, 3.3, 4.7, 6.1, 7.5, 8.2, 9.6])\n",
        "y_nodes = np.array([2.1874, 2.8637, 3.8161, 3.8524, 3.1905, 2.8409, 2.6137])\n",
        "x_star = 4.8\n",
        "y_exact = 1.7 * ((x_star)**(1 / 3)) - np.cos(0.4 - 0.7 * x_star)\n",
        "\n",
        "lagrange_poly = lagrange(x_nodes, y_nodes)\n",
        "y_lagrange = lagrange_poly(x_star)\n",
        "\n",
        "cubic_spline = CubicSpline(x_nodes, y_nodes)\n",
        "y_cubic_spline = cubic_spline(x_star)\n",
        "\n",
        "pchip = PchipInterpolator(x_nodes, y_nodes)\n",
        "y_pchip = pchip(x_star)\n",
        "\n",
        "cubic_hermite = CubicHermiteSpline(x_nodes, y_nodes, np.gradient(y_nodes, x_nodes))\n",
        "y_cubic_hermite = cubic_hermite(x_star)\n",
        "\n",
        "akima = Akima1DInterpolator(x_nodes, y_nodes)\n",
        "y_akima = akima(x_star)\n",
        "\n",
        "errors = {\n",
        "    \"Lagrange\" : abs(y_lagrange - y_exact),\n",
        "    \"Cubic Spline\" : abs(y_cubic_spline - y_exact),\n",
        "    \"Pchip\" : abs(y_pchip - y_exact),\n",
        "    \"Cubic Hermite\" : abs(y_cubic_hermite - y_exact),\n",
        "    \"Akima\" : abs(y_akima - y_exact),\n",
        "}\n",
        "\n",
        "print(f\"Точное значение: у_exact = {y_exact} \")\n",
        "print('Результаты интерполяции:')\n",
        "print(f\"Lagrange: y* = {y_lagrange}, погрешность = {errors['Lagrange']}\")\n",
        "print(f\"Cubic Spline: y* = {y_cubic_spline}, погрешность = {errors['Cubic Spline']}\")\n",
        "print(f\"Pchip: y* = {y_pchip}, погрешность = {errors['Pchip']}\")\n",
        "print(f\"Cubic Hermite: y* = {y_cubic_hermite}, погрешность = {errors['Cubic Hermite']}\")\n",
        "print(f\"Akima: y* = {y_akima}, погрешность = {errors['Akima']}\")\n",
        "\n",
        "\n",
        "\n",
        "\n",
        "\n",
        "\n",
        "\n"
      ],
      "metadata": {
        "colab": {
          "base_uri": "https://localhost:8080/"
        },
        "id": "vvkfOfvI-po_",
        "outputId": "f29c2ebf-f1ff-494b-f7a2-6e06a0eb3d06"
      },
      "execution_count": null,
      "outputs": [
        {
          "output_type": "stream",
          "name": "stdout",
          "text": [
            "Тонкое значение: у_exact = 3.8512283750599536 \n",
            "Результаты интерполяции:\n",
            "Lagrange: y* = 3.8510457902280417, погрешность = 0.00018258483191191388\n",
            "Cubic Spline: y* = 3.8509809990183026, погрешность = 0.0002473760416510373\n",
            "Pchip: y* = 3.8209363449250584, погрешность = 0.03029203013489523\n",
            "Cubic Hermite: y* = 3.8485575619533523, погрешность = 0.002670813106601333\n",
            "Akima: y* = 3.8577357461913517, погрешность = 0.006507371131398099\n"
          ]
        }
      ]
    }
  ]
}