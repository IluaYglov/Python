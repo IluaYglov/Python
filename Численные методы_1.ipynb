{
  "nbformat": 4,
  "nbformat_minor": 0,
  "metadata": {
    "colab": {
      "provenance": [],
      "authorship_tag": "ABX9TyOXxpddskoM1BDwT9fM4WDu",
      "include_colab_link": true
    },
    "kernelspec": {
      "name": "python3",
      "display_name": "Python 3"
    },
    "language_info": {
      "name": "python"
    }
  },
  "cells": [
    {
      "cell_type": "markdown",
      "metadata": {
        "id": "view-in-github",
        "colab_type": "text"
      },
      "source": [
        "<a href=\"https://colab.research.google.com/github/IluaYglov/Python/blob/main/%D0%A7%D0%B8%D1%81%D0%BB%D0%B5%D0%BD%D0%BD%D1%8B%D0%B5%20%D0%BC%D0%B5%D1%82%D0%BE%D0%B4%D1%8B_1.ipynb\" target=\"_parent\"><img src=\"https://colab.research.google.com/assets/colab-badge.svg\" alt=\"Open In Colab\"/></a>"
      ]
    },
    {
      "cell_type": "markdown",
      "source": [
        "Написать программу, реализующую вычисление интеграла методом\n",
        "Монте-Карло. Экспериментально определить, каким (в среднем) должно\n",
        "быть число испытаний, чтобы получить значение интеграла с точностью\n",
        "ε = 10–2? ε =10–4?\n"
      ],
      "metadata": {
        "id": "Az3h5Yi1biT4"
      }
    },
    {
      "cell_type": "code",
      "source": [
        "import random\n",
        "import numpy as np\n",
        "import math\n",
        "\n",
        "def monte_carlo_integral(f, a, b, n):\n",
        "    total_sum = 0\n",
        "    for _ in range(n):\n",
        "        x = random.uniform(a, b)\n",
        "        total_sum += f(x)\n",
        "    return (b - a) * total_sum / n\n",
        "\n",
        "\n",
        "def f(x):\n",
        "    return (1 / x) * np.log(x + 2)\n",
        "\n",
        "\n",
        "a = 2\n",
        "b = 3\n",
        "epsilon = 1e-4\n",
        "exact = 0.6059606  # Точное значение интеграла\n",
        "\n",
        "\n",
        "n_min = 10\n",
        "while True:\n",
        "    integral_estimate = monte_carlo_integral(f, a, b, n_min)\n",
        "    error_estimate = abs(integral_estimate - exact)\n",
        "    if error_estimate <= epsilon:\n",
        "        print(f\"Интеграл методом Монте-Карло: {integral_estimate:.8f}\")\n",
        "        print(f\"Точное значение интеграла: {exact:.8f}\")\n",
        "        print(f\"Абсолютная погрешность: {error_estimate:.8f}\")\n",
        "        print(f\"Минимальное количество испытаний: {n_min}\")\n",
        "        break\n",
        "    else:\n",
        "        n_min *= 10"
      ],
      "metadata": {
        "colab": {
          "base_uri": "https://localhost:8080/"
        },
        "id": "0SU_ZP7lbiwp",
        "outputId": "d5087a38-f559-4c09-a470-b3b4192d2827"
      },
      "execution_count": null,
      "outputs": [
        {
          "output_type": "stream",
          "name": "stdout",
          "text": [
            "Интеграл методом Монте-Карло: 0.60602757\n",
            "Точное значение интеграла: 0.60596060\n",
            "Абсолютная погрешность: 0.00006697\n",
            "Минимальное количество испытаний: 100000\n"
          ]
        }
      ]
    },
    {
      "cell_type": "markdown",
      "source": [
        "\n",
        "Написать программу, реализующую методы прямоугольников, трапеций,\n",
        "парабол. Программа должна запрашивать отрезок интегрирования, число\n",
        "разбиений n (или шаг h) и выводить приближённые значения интеграла и\n",
        "погрешность, вычисленную по правилу Рунге.\n"
      ],
      "metadata": {
        "id": "p26fHQaQy2TF"
      }
    },
    {
      "cell_type": "code",
      "source": [
        "\n",
        "def f(x):\n",
        "    return (1 / x) * np.log(x + 2)\n",
        "\n",
        "def treyg_method(a, b, n):\n",
        "    h = (b - a) / n\n",
        "    return  sum(f(a + i * h)*h for i in range(n))\n",
        "\n",
        "def trapezia_method(a, b, n):\n",
        "    h = (b - a) / n\n",
        "    return  (h*(((f(a)+f(b))/2) + (sum(f(a + i * h) for i in range(1, n)))))\n",
        "\n",
        "def parabola_method(a, b, n):\n",
        "    n *= 2\n",
        "    h = (b - a) / n\n",
        "    sum_nech = 0\n",
        "    sum_ch = 0\n",
        "    for i in range(1,n):\n",
        "        if i % 2 != 0:\n",
        "          sum_nech += f(a + i* h)\n",
        "        else:\n",
        "          sum_ch += f(a +i* h)\n",
        "    return  (h / 3) *  (f(a) + f(b) + 4 * sum_nech + 2*sum_ch)\n",
        "\n",
        "    #return (h / 3) * (f(a) + f(b) + 4 * sum(f(a + (2 * i + 1) * h) for i in range(n // 2)) +\n",
        "                     #2 * sum(f(a +( 2 * i +2)* h) for i in range(n // 2)))\n",
        "\n",
        "\n",
        "a = float(input(\"Введите начало отрезка интегрирования (a): \"))\n",
        "b = float(input(\"Введите конец отрезка интегрирования (b): \"))\n",
        "n = int(input(\"Введите число разбиений (n): \"))\n",
        "\n",
        "integral_treyg = treyg_method(a, b, n)\n",
        "integral_trap = trapezia_method(a, b, n)\n",
        "integral_parab = parabola_method(a, b, n)\n",
        "\n",
        "\n",
        "exact_integral = 0.60596062\n",
        "\n",
        "# Погрешности\n",
        "error_treyg = abs(treyg_method(a, b, 2*n) - integral_treyg)/3\n",
        "error_trap = abs(trapezia_method(a, b, 2*n) - integral_trap)/3\n",
        "error_parab = abs(parabola_method(a, b, 2*n) - integral_parab)/3\n",
        "\n",
        "\n",
        "print(f\"Метод прямоугольников: {integral_treyg:.6f}, погрешность: {error_treyg:.6f}\")\n",
        "print(f\"Метод трапеций: {integral_trap:.6f}, погрешность: {error_trap:.6f}\")\n",
        "print(f\"Метод парабол: {integral_parab:.6f}, погрешность: {error_parab:.6f}\")"
      ],
      "metadata": {
        "colab": {
          "base_uri": "https://localhost:8080/"
        },
        "id": "j1KpHrf0y2ac",
        "outputId": "1f9b6805-812d-41dd-b6aa-a09f79f1fba4"
      },
      "execution_count": null,
      "outputs": [
        {
          "output_type": "stream",
          "name": "stdout",
          "text": [
            "Введите начало отрезка интегрирования (a): 2\n",
            "Введите конец отрезка интегрирования (b): 3\n",
            "Введите число разбиений (n): 100\n",
            "Метод прямоугольников: 0.606745, погрешность: 0.000131\n",
            "Метод трапеций: 0.605962, погрешность: 0.000000\n",
            "Метод парабол: 0.605961, погрешность: 0.000000\n"
          ]
        }
      ]
    }
  ]
}